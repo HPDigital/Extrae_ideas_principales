{
 "cells": [
  {
   "cell_type": "code",
   "execution_count": 1,
   "id": "effeb42f-f1ec-4866-9a55-93a25afcf6dd",
   "metadata": {},
   "outputs": [
    {
     "name": "stderr",
     "output_type": "stream",
     "text": [
      "[nltk_data] Downloading package punkt to\n",
      "[nltk_data]     C:\\Users\\HP\\AppData\\Roaming\\nltk_data...\n",
      "[nltk_data]   Unzipping tokenizers\\punkt.zip.\n",
      "[nltk_data] Downloading package stopwords to\n",
      "[nltk_data]     C:\\Users\\HP\\AppData\\Roaming\\nltk_data...\n",
      "[nltk_data]   Unzipping corpora\\stopwords.zip.\n"
     ]
    },
    {
     "name": "stdout",
     "output_type": "stream",
     "text": [
      "Ideas principales (palabras más frecuentes):\n",
      "valor: 116\n",
      "así: 86\n",
      "bien: 76\n",
      "propuesta: 73\n",
      "clientes: 61\n"
     ]
    }
   ],
   "source": [
    "import string\n",
    "from collections import Counter\n",
    "from nltk.corpus import stopwords\n",
    "from nltk.tokenize import word_tokenize\n",
    "import nltk\n",
    "\n",
    "# Descargar las stopwords\n",
    "nltk.download('punkt')\n",
    "nltk.download('stopwords')\n",
    "\n",
    "def limpiar_texto(texto):\n",
    "    # Convertir el texto a minúsculas\n",
    "    texto = texto.lower()\n",
    "    # Eliminar la puntuación\n",
    "    texto_sin_puntuacion = texto.translate(str.maketrans('', '', string.punctuation))\n",
    "    return texto_sin_puntuacion\n",
    "\n",
    "def obtener_ideas_principales(texto, num_ideas=5):\n",
    "    # Limpiar el texto\n",
    "    texto_limpio = limpiar_texto(texto)\n",
    "    \n",
    "    # Tokenizar el texto\n",
    "    palabras = word_tokenize(texto_limpio)\n",
    "    \n",
    "    # Filtrar stopwords\n",
    "    palabras_filtradas = [palabra for palabra in palabras if palabra not in stopwords.words('spanish')]\n",
    "    \n",
    "    # Contar frecuencia de palabras\n",
    "    frecuencias = Counter(palabras_filtradas)\n",
    "    \n",
    "    # Obtener las palabras más comunes\n",
    "    ideas_principales = frecuencias.most_common(num_ideas)\n",
    "    \n",
    "    return ideas_principales\n",
    "\n",
    "# Leer el documento\n",
    "ruta_documento = \"C:\\\\Users\\\\HP\\\\Desktop\\\\CATO CURSOS-1-2024\\\\GER-TI CATO1-2024\\\\Cursos\\\\SEMANA 8\\\\Texto_video_2.txt\"\n",
    "with open(ruta_documento, 'r', encoding='utf-8') as archivo:\n",
    "    texto_documento = archivo.read()\n",
    "\n",
    "# Obtener las ideas principales\n",
    "ideas_principales = obtener_ideas_principales(texto_documento, 5)\n",
    "print(\"Ideas principales (palabras más frecuentes):\")\n",
    "for palabra, frecuencia in ideas_principales:\n",
    "    print(f\"{palabra}: {frecuencia}\")\n"
   ]
  },
  {
   "cell_type": "code",
   "execution_count": null,
   "id": "28f73fb4-1577-4ea5-bb26-ab765e6547a6",
   "metadata": {},
   "outputs": [],
   "source": []
  }
 ],
 "metadata": {
  "kernelspec": {
   "display_name": "Python 3 (ipykernel)",
   "language": "python",
   "name": "python3"
  },
  "language_info": {
   "codemirror_mode": {
    "name": "ipython",
    "version": 3
   },
   "file_extension": ".py",
   "mimetype": "text/x-python",
   "name": "python",
   "nbconvert_exporter": "python",
   "pygments_lexer": "ipython3",
   "version": "3.11.9"
  }
 },
 "nbformat": 4,
 "nbformat_minor": 5
}
